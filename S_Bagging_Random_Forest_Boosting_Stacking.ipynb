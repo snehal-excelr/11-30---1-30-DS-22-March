{
  "nbformat": 4,
  "nbformat_minor": 0,
  "metadata": {
    "kernelspec": {
      "display_name": "Python 3",
      "language": "python",
      "name": "python3"
    },
    "language_info": {
      "codemirror_mode": {
        "name": "ipython",
        "version": 3
      },
      "file_extension": ".py",
      "mimetype": "text/x-python",
      "name": "python",
      "nbconvert_exporter": "python",
      "pygments_lexer": "ipython3",
      "version": "3.7.4"
    },
    "colab": {
      "provenance": []
    }
  },
  "cells": [
    {
      "cell_type": "code",
      "metadata": {
        "id": "kmZL6Q5wt8ai"
      },
      "source": [
        "# Bagged Decision Trees for Classification\n",
        "from pandas import read_csv\n",
        "from sklearn.model_selection import KFold\n",
        "from sklearn.model_selection import cross_val_score\n",
        "from sklearn.ensemble import BaggingClassifier\n",
        "from sklearn.tree import DecisionTreeClassifier\n",
        "\n",
        "filename = '/content/pima-indians-diabetes.data.csv'\n",
        "names = ['preg', 'plas', 'pres', 'skin', 'test', 'mass', 'pedi', 'age', 'class']\n",
        "dataframe = read_csv(filename, names=names)\n",
        "array = dataframe.values\n",
        "X = array[:,0:8]\n",
        "Y = array[:,8]\n",
        "seed = 7\n",
        "kfold = KFold(n_splits=10,random_state=seed,shuffle=True) # evaluation method\n",
        "# https://scikit-learn.org/stable/modules/generated/sklearn.model_selection.KFold.html\n",
        "cart = DecisionTreeClassifier()\n",
        "num_trees = 100\n",
        "\n",
        "model = BaggingClassifier(estimator=cart, n_estimators=num_trees, random_state=seed) #Classifier\n",
        "results = cross_val_score(model, X, Y, cv=kfold)"
      ],
      "execution_count": null,
      "outputs": []
    },
    {
      "cell_type": "code",
      "metadata": {
        "id": "_aIO9VQp3CI_",
        "colab": {
          "base_uri": "https://localhost:8080/"
        },
        "outputId": "272b0727-c559-44d9-c9fd-31688ac465fc"
      },
      "source": [
        "results"
      ],
      "execution_count": null,
      "outputs": [
        {
          "output_type": "execute_result",
          "data": {
            "text/plain": [
              "array([0.76623377, 0.75324675, 0.74025974, 0.77922078, 0.80519481,\n",
              "       0.79220779, 0.66233766, 0.75324675, 0.78947368, 0.73684211])"
            ]
          },
          "metadata": {},
          "execution_count": 2
        }
      ]
    },
    {
      "cell_type": "code",
      "source": [
        "print(results.mean())"
      ],
      "metadata": {
        "colab": {
          "base_uri": "https://localhost:8080/"
        },
        "id": "-6k6xJWXfJxV",
        "outputId": "1d1c710b-31c0-4294-8e13-6b5b89d9daf0"
      },
      "execution_count": null,
      "outputs": [
        {
          "output_type": "stream",
          "name": "stdout",
          "text": [
            "0.7578263841421736\n"
          ]
        }
      ]
    },
    {
      "cell_type": "code",
      "metadata": {
        "id": "cr6QYDf2t8ak"
      },
      "source": [
        "# Random Forest Classification\n",
        "from pandas import read_csv\n",
        "from sklearn.model_selection import KFold\n",
        "from sklearn.model_selection import cross_val_score\n",
        "from sklearn.ensemble import RandomForestClassifier\n",
        "\n",
        "array=dataframe.values\n",
        "X = array[:,0:8]\n",
        "Y = array[:,8]\n",
        "\n",
        "num_trees = 100\n",
        "max_features = 3 #Total features m=8, K=3 i.e. randomly select 3 features\n",
        "kfold = KFold(n_splits=10)\n",
        "\n",
        "model = RandomForestClassifier(n_estimators=num_trees, max_features=max_features)\n",
        "results = cross_val_score(model, X, Y, cv=kfold)"
      ],
      "execution_count": null,
      "outputs": []
    },
    {
      "cell_type": "code",
      "source": [
        "results"
      ],
      "metadata": {
        "id": "un9gF8JVf-Bd",
        "colab": {
          "base_uri": "https://localhost:8080/"
        },
        "outputId": "1b3b5289-3272-423b-ea2a-612d25a949df"
      },
      "execution_count": null,
      "outputs": [
        {
          "output_type": "execute_result",
          "data": {
            "text/plain": [
              "array([0.68831169, 0.84415584, 0.75324675, 0.66233766, 0.80519481,\n",
              "       0.81818182, 0.80519481, 0.85714286, 0.72368421, 0.77631579])"
            ]
          },
          "metadata": {},
          "execution_count": 5
        }
      ]
    },
    {
      "cell_type": "code",
      "source": [
        "print(results.mean())"
      ],
      "metadata": {
        "id": "uTTe3PZkgAC_",
        "colab": {
          "base_uri": "https://localhost:8080/"
        },
        "outputId": "153857d0-6292-41e1-d944-4a878d669a4c"
      },
      "execution_count": null,
      "outputs": [
        {
          "output_type": "stream",
          "name": "stdout",
          "text": [
            "0.7733766233766234\n"
          ]
        }
      ]
    },
    {
      "cell_type": "code",
      "metadata": {
        "id": "3T6_k9Out8am"
      },
      "source": [
        "# AdaBoost Classification\n",
        "from pandas import read_csv\n",
        "from sklearn.model_selection import KFold\n",
        "from sklearn.model_selection import cross_val_score\n",
        "from sklearn.ensemble import AdaBoostClassifier\n",
        "filename = '/content/pima-indians-diabetes.data.csv'\n",
        "names = ['preg', 'plas', 'pres', 'skin', 'test', 'mass', 'pedi', 'age', 'class']\n",
        "dataframe = read_csv(filename, names=names)\n",
        "array = dataframe.values\n",
        "X = array[:,0:8]\n",
        "Y = array[:,8]\n",
        "num_trees = 10 # try 20,30\n",
        "seed=7\n",
        "kfold = KFold(n_splits=10, random_state=seed,shuffle=True)\n",
        "model = AdaBoostClassifier(n_estimators=num_trees, random_state=seed)\n",
        "results = cross_val_score(model, X, Y, cv=kfold)"
      ],
      "execution_count": null,
      "outputs": []
    },
    {
      "cell_type": "code",
      "source": [
        "results"
      ],
      "metadata": {
        "id": "8yxsor_egV3n",
        "colab": {
          "base_uri": "https://localhost:8080/"
        },
        "outputId": "c284621d-75d1-43f8-885c-9811dce3863c"
      },
      "execution_count": null,
      "outputs": [
        {
          "output_type": "execute_result",
          "data": {
            "text/plain": [
              "array([0.80519481, 0.74025974, 0.67532468, 0.81818182, 0.80519481,\n",
              "       0.79220779, 0.71428571, 0.75324675, 0.78947368, 0.77631579])"
            ]
          },
          "metadata": {},
          "execution_count": 8
        }
      ]
    },
    {
      "cell_type": "code",
      "source": [
        "print(results.mean())"
      ],
      "metadata": {
        "id": "cNK_gV61gV-S",
        "colab": {
          "base_uri": "https://localhost:8080/"
        },
        "outputId": "5ebf808c-2928-4755-f995-34b364cac04a"
      },
      "execution_count": null,
      "outputs": [
        {
          "output_type": "stream",
          "name": "stdout",
          "text": [
            "0.7669685577580314\n"
          ]
        }
      ]
    },
    {
      "cell_type": "code",
      "metadata": {
        "id": "k1Ifbp_pt8am"
      },
      "source": [
        "# Stacking Ensemble for Classification\n",
        "from pandas import read_csv\n",
        "from sklearn.model_selection import KFold\n",
        "from sklearn.model_selection import cross_val_score\n",
        "from sklearn.linear_model import LogisticRegression\n",
        "from sklearn.tree import DecisionTreeClassifier\n",
        "from sklearn.svm import SVC # Support Vector Classifier\n",
        "from sklearn.ensemble import VotingClassifier\n",
        "\n",
        "filename = '/content/pima-indians-diabetes.data.csv'\n",
        "names = ['preg', 'plas', 'pres', 'skin', 'test', 'mass', 'pedi', 'age', 'class']\n",
        "dataframe = read_csv(filename, names=names)\n",
        "array = dataframe.values\n",
        "X = array[:,0:8]\n",
        "Y = array[:,8]\n",
        "kfold = KFold(n_splits=10)\n",
        "\n",
        "# create the sub models\n",
        "estimators = [] # create empty list for different algorithms\n",
        "\n",
        "model1 = LogisticRegression(max_iter=500)\n",
        "estimators.append(('logistic', model1))\n",
        "\n",
        "model2 = DecisionTreeClassifier()\n",
        "estimators.append(('cart', model2))\n",
        "\n",
        "model3 = SVC()\n",
        "estimators.append(('svc', model3))\n",
        "\n",
        "# create the ensemble model\n",
        "ensemble = VotingClassifier(estimators)\n",
        "results = cross_val_score(ensemble, X, Y, cv=kfold)"
      ],
      "execution_count": null,
      "outputs": []
    },
    {
      "cell_type": "code",
      "source": [
        "estimators"
      ],
      "metadata": {
        "id": "_vgXMHGo0jwJ",
        "colab": {
          "base_uri": "https://localhost:8080/"
        },
        "outputId": "61163b08-7427-433c-c9b9-458e49a29f96"
      },
      "execution_count": null,
      "outputs": [
        {
          "output_type": "execute_result",
          "data": {
            "text/plain": [
              "[('logistic', LogisticRegression(max_iter=500)),\n",
              " ('cart', DecisionTreeClassifier()),\n",
              " ('svc', SVC())]"
            ]
          },
          "metadata": {},
          "execution_count": 11
        }
      ]
    },
    {
      "cell_type": "code",
      "source": [
        "results"
      ],
      "metadata": {
        "id": "YQ9ifIKnhR3n",
        "colab": {
          "base_uri": "https://localhost:8080/"
        },
        "outputId": "dd58ab59-d582-405e-c21e-721ab12dbd61"
      },
      "execution_count": null,
      "outputs": [
        {
          "output_type": "execute_result",
          "data": {
            "text/plain": [
              "array([0.64935065, 0.80519481, 0.72727273, 0.63636364, 0.79220779,\n",
              "       0.80519481, 0.84415584, 0.84415584, 0.75      , 0.76315789])"
            ]
          },
          "metadata": {},
          "execution_count": 12
        }
      ]
    },
    {
      "cell_type": "code",
      "source": [
        "print(results.mean())"
      ],
      "metadata": {
        "id": "aenDOUC0hR_Z",
        "colab": {
          "base_uri": "https://localhost:8080/"
        },
        "outputId": "f95b84ee-91c5-4272-859d-35e786675f8d"
      },
      "execution_count": null,
      "outputs": [
        {
          "output_type": "stream",
          "name": "stdout",
          "text": [
            "0.7617053998632947\n"
          ]
        }
      ]
    },
    {
      "cell_type": "markdown",
      "source": [
        "# **Additional Code: \"random_state = any int\"**"
      ],
      "metadata": {
        "id": "JiGk0tGEgMVy"
      }
    },
    {
      "cell_type": "code",
      "source": [
        "from sklearn.model_selection import train_test_split\n",
        "import numpy as np\n",
        "\n",
        "# Generate data for the example (values from 0 to 10)\n",
        "data = np.arange(10)\n",
        "\n",
        "# Split the data into training and testing sets\n",
        "X_train, X_test, y_train, y_test = train_test_split(data,data, test_size=0.3, random_state=30)\n",
        "\n",
        "# Display the training and testing sets\n",
        "print(\"Training set X:\", X_train)\n",
        "print(\"Testing set X:\", X_test)\n",
        "print(\"Training labels y:\", y_train)\n",
        "print(\"Testing labels y:\", y_test)\n",
        "\n",
        "'''\n",
        "First time Output:\n",
        "Training set X: [0 7 2 9 4 3 6]\n",
        "Testing set X: [8 1 5]\n",
        "Training labels y: [0 7 2 9 4 3 6]\n",
        "Testing labels y: [8 1 5]\n",
        "\n",
        "Second time Output\n",
        "Same as above\n",
        "\n",
        "TRY TO CHANGE random_state = ANY OTHER INTEGER\n",
        "'''"
      ],
      "metadata": {
        "colab": {
          "base_uri": "https://localhost:8080/",
          "height": 122
        },
        "id": "x8EiQtUWe-jj",
        "outputId": "a5215c4f-e76d-4a53-ce40-070c8bcb7b62"
      },
      "execution_count": null,
      "outputs": [
        {
          "output_type": "stream",
          "name": "stdout",
          "text": [
            "Training set X: [3 6 4 7 8 9 5]\n",
            "Testing set X: [0 1 2]\n",
            "Training labels y: [3 6 4 7 8 9 5]\n",
            "Testing labels y: [0 1 2]\n"
          ]
        },
        {
          "output_type": "execute_result",
          "data": {
            "text/plain": [
              "'\\nFirst time Output:\\nTraining set X: [0 7 2 9 4 3 6]\\nTesting set X: [8 1 5]\\nTraining labels y: [0 7 2 9 4 3 6]\\nTesting labels y: [8 1 5]\\n\\nSecond time Output\\nSame as above\\n\\nTRY TO CHANGE random_state = ANY OTHER INTEGER\\n'"
            ],
            "application/vnd.google.colaboratory.intrinsic+json": {
              "type": "string"
            }
          },
          "metadata": {},
          "execution_count": 14
        }
      ]
    },
    {
      "cell_type": "markdown",
      "source": [
        "# **If random_state is not passed as an argument**"
      ],
      "metadata": {
        "id": "6KyS9b0KgelC"
      }
    },
    {
      "cell_type": "code",
      "source": [
        "from sklearn.model_selection import train_test_split\n",
        "import numpy as np\n",
        "\n",
        "# Generate data for the example (values from 0 to 99)\n",
        "data = np.arange(10)\n",
        "\n",
        "# Split the data into training and testing sets\n",
        "X_train, X_test, y_train, y_test = train_test_split(data, data, test_size=0.3)\n",
        "\n",
        "# Display the training and testing sets\n",
        "print(\"Training set X:\", X_train)\n",
        "print(\"Testing set X:\", X_test)\n",
        "print(\"Training labels y:\", y_train)\n",
        "print(\"Testing labels y:\", y_test)\n",
        "\n",
        "'''\n",
        "First time Output\n",
        "Training set X: [4 3 7 9 1 6 8]\n",
        "Testing set X: [0 2 5]\n",
        "Training labels y: [4 3 7 9 1 6 8]\n",
        "Testing labels y: [0 2 5]\n",
        "\n",
        "Second time Output\n",
        "Training set X: [6 8 2 3 7 1 9]\n",
        "Testing set X: [5 0 4]\n",
        "Training labels y: [6 8 2 3 7 1 9]\n",
        "Testing labels y: [5 0 4]\n",
        "'''"
      ],
      "metadata": {
        "colab": {
          "base_uri": "https://localhost:8080/",
          "height": 139
        },
        "id": "GG3aqBtnfirE",
        "outputId": "1b04c54d-925c-4666-e625-af4a5ef00758"
      },
      "execution_count": null,
      "outputs": [
        {
          "output_type": "stream",
          "name": "stdout",
          "text": [
            "Training set X: [8 1 3 0 7 4 2]\n",
            "Testing set X: [5 6 9]\n",
            "Training labels y: [8 1 3 0 7 4 2]\n",
            "Testing labels y: [5 6 9]\n"
          ]
        },
        {
          "output_type": "execute_result",
          "data": {
            "text/plain": [
              "'\\nFirst time Output\\nTraining set X: [4 3 7 9 1 6 8]\\nTesting set X: [0 2 5]\\nTraining labels y: [4 3 7 9 1 6 8]\\nTesting labels y: [0 2 5]\\n\\nSecond time Output\\nTraining set X: [6 8 2 3 7 1 9]\\nTesting set X: [5 0 4]\\nTraining labels y: [6 8 2 3 7 1 9]\\nTesting labels y: [5 0 4]\\n'"
            ],
            "application/vnd.google.colaboratory.intrinsic+json": {
              "type": "string"
            }
          },
          "metadata": {},
          "execution_count": 15
        }
      ]
    }
  ]
}